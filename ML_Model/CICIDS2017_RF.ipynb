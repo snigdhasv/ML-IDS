{
  "nbformat": 4,
  "nbformat_minor": 0,
  "metadata": {
    "colab": {
      "provenance": []
    },
    "kernelspec": {
      "name": "python3",
      "display_name": "Python 3"
    },
    "language_info": {
      "name": "python"
    }
  },
  "cells": [
    {
      "cell_type": "code",
      "execution_count": 1,
      "metadata": {
        "id": "E8hjCF9L2v0Z"
      },
      "outputs": [],
      "source": [
        "import numpy as np\n",
        "import pandas as pd\n",
        "from sklearn.ensemble import RandomForestClassifier\n",
        "from sklearn.model_selection import train_test_split, cross_val_score\n",
        "from sklearn.metrics import classification_report, accuracy_score, f1_score\n",
        "import gc\n",
        "import time\n",
        "import os\n",
        "from typing import List, Optional"
      ]
    },
    {
      "cell_type": "code",
      "source": [
        "# Load data\n",
        "from google.colab import drive\n",
        "drive.mount('/content/drive')\n"
      ],
      "metadata": {
        "id": "_BCUb9Fs3pkI",
        "colab": {
          "base_uri": "https://localhost:8080/"
        },
        "outputId": "70f84f30-ddbc-49ab-bd05-e4eaaabf2ba8"
      },
      "execution_count": 2,
      "outputs": [
        {
          "output_type": "stream",
          "name": "stdout",
          "text": [
            "Drive already mounted at /content/drive; to attempt to forcibly remount, call drive.mount(\"/content/drive\", force_remount=True).\n"
          ]
        }
      ]
    },
    {
      "cell_type": "code",
      "source": [
        "def load_cicids_data(folder_path: str,\n",
        "                     chunksize: int = 100000) -> pd.DataFrame:\n",
        "    \"\"\"\n",
        "    Load CICIDS2017 dataset in a memory-efficient manner.\n",
        "\n",
        "    Args:\n",
        "        folder_path: Path to the folder containing CSV files\n",
        "        usecols: List of columns to load (None loads all columns)\n",
        "        chunksize: Number of rows to read at a time\n",
        "\n",
        "    Returns:\n",
        "        Combined DataFrame with all data\n",
        "    \"\"\"\n",
        "    # List to store DataFrames\n",
        "    combined_df = None\n",
        "\n",
        "    # Load the datasets\n",
        "    for dirname, _, filenames in os.walk(folder_path):\n",
        "        for filename in filenames:\n",
        "            if filename.endswith('.csv'):\n",
        "                file_path = os.path.join(dirname, filename)\n",
        "\n",
        "                # Get total rows in file\n",
        "                total_rows = sum(1 for _ in open(file_path)) - 1\n",
        "                print(f\"\\nProcessing {filename} ({total_rows:,} rows)\")\n",
        "\n",
        "                # Read file in chunks\n",
        "                chunk_iterator = pd.read_csv(\n",
        "                    file_path,\n",
        "                    chunksize=chunksize,\n",
        "                    low_memory=True\n",
        "                )\n",
        "\n",
        "                for i, chunk in enumerate(chunk_iterator):\n",
        "                    # Process chunk\n",
        "                    if combined_df is None:\n",
        "                        combined_df = chunk\n",
        "                    else:\n",
        "                        combined_df = pd.concat([combined_df, chunk], ignore_index=True)\n",
        "\n",
        "                    # Print progress\n",
        "                    rows_processed = min((i + 1) * chunksize, total_rows)\n",
        "                    print(f\"Progress: {rows_processed:,}/{total_rows:,} rows\", end='\\r')\n",
        "\n",
        "                    # Force garbage collection\n",
        "                    gc.collect()\n",
        "\n",
        "                print(f\"\\nCompleted {filename}\")\n",
        "\n",
        "    return combined_df\n",
        "\n",
        "# Usage example\n",
        "folder_path = '/content/drive/MyDrive/Capstone /CICIDS2017'\n",
        "\n",
        "\n",
        "# Load data efficiently\n",
        "data = load_cicids_data(\n",
        "    folder_path=folder_path,\n",
        "    chunksize=100000\n",
        ")"
      ],
      "metadata": {
        "id": "qz2p94fI2xwL",
        "colab": {
          "base_uri": "https://localhost:8080/"
        },
        "outputId": "7348599b-4106-491c-c205-879042f08f89"
      },
      "execution_count": 3,
      "outputs": [
        {
          "output_type": "stream",
          "name": "stdout",
          "text": [
            "\n",
            "Processing Friday-WorkingHours-Afternoon-DDos.pcap_ISCX.csv (225,745 rows)\n",
            "Progress: 225,745/225,745 rows\n",
            "Completed Friday-WorkingHours-Afternoon-DDos.pcap_ISCX.csv\n",
            "\n",
            "Processing Friday-WorkingHours-Afternoon-PortScan.pcap_ISCX.csv (286,467 rows)\n",
            "Progress: 286,467/286,467 rows\n",
            "Completed Friday-WorkingHours-Afternoon-PortScan.pcap_ISCX.csv\n",
            "\n",
            "Processing Friday-WorkingHours-Morning.pcap_ISCX.csv (191,033 rows)\n",
            "Progress: 191,033/191,033 rows\n",
            "Completed Friday-WorkingHours-Morning.pcap_ISCX.csv\n",
            "\n",
            "Processing Monday-WorkingHours.pcap_ISCX.csv (529,918 rows)\n",
            "Progress: 529,918/529,918 rows\n",
            "Completed Monday-WorkingHours.pcap_ISCX.csv\n",
            "\n",
            "Processing Thursday-WorkingHours-Afternoon-Infilteration.pcap_ISCX.csv (288,602 rows)\n",
            "Progress: 288,602/288,602 rows\n",
            "Completed Thursday-WorkingHours-Afternoon-Infilteration.pcap_ISCX.csv\n",
            "\n",
            "Processing Thursday-WorkingHours-Morning-WebAttacks.pcap_ISCX.csv (170,366 rows)\n",
            "Progress: 170,366/170,366 rows\n",
            "Completed Thursday-WorkingHours-Morning-WebAttacks.pcap_ISCX.csv\n",
            "\n",
            "Processing Tuesday-WorkingHours.pcap_ISCX.csv (445,909 rows)\n",
            "Progress: 445,909/445,909 rows\n",
            "Completed Tuesday-WorkingHours.pcap_ISCX.csv\n",
            "\n",
            "Processing Wednesday-workingHours.pcap_ISCX.csv (692,703 rows)\n",
            "Progress: 692,703/692,703 rows\n",
            "Completed Wednesday-workingHours.pcap_ISCX.csv\n"
          ]
        }
      ]
    },
    {
      "cell_type": "code",
      "source": [
        "data.head()"
      ],
      "metadata": {
        "colab": {
          "base_uri": "https://localhost:8080/",
          "height": 307
        },
        "id": "NUDIuCAnUPod",
        "outputId": "96a1abec-c9dd-4c06-f5e8-8c10f2d61f99"
      },
      "execution_count": 4,
      "outputs": [
        {
          "output_type": "execute_result",
          "data": {
            "text/plain": [
              "    Destination Port   Flow Duration   Total Fwd Packets  \\\n",
              "0              54865               3                   2   \n",
              "1              55054             109                   1   \n",
              "2              55055              52                   1   \n",
              "3              46236              34                   1   \n",
              "4              54863               3                   2   \n",
              "\n",
              "    Total Backward Packets  Total Length of Fwd Packets  \\\n",
              "0                        0                           12   \n",
              "1                        1                            6   \n",
              "2                        1                            6   \n",
              "3                        1                            6   \n",
              "4                        0                           12   \n",
              "\n",
              "    Total Length of Bwd Packets   Fwd Packet Length Max  \\\n",
              "0                             0                       6   \n",
              "1                             6                       6   \n",
              "2                             6                       6   \n",
              "3                             6                       6   \n",
              "4                             0                       6   \n",
              "\n",
              "    Fwd Packet Length Min   Fwd Packet Length Mean   Fwd Packet Length Std  \\\n",
              "0                       6                      6.0                     0.0   \n",
              "1                       6                      6.0                     0.0   \n",
              "2                       6                      6.0                     0.0   \n",
              "3                       6                      6.0                     0.0   \n",
              "4                       6                      6.0                     0.0   \n",
              "\n",
              "   ...   min_seg_size_forward  Active Mean   Active Std   Active Max  \\\n",
              "0  ...                     20          0.0          0.0            0   \n",
              "1  ...                     20          0.0          0.0            0   \n",
              "2  ...                     20          0.0          0.0            0   \n",
              "3  ...                     20          0.0          0.0            0   \n",
              "4  ...                     20          0.0          0.0            0   \n",
              "\n",
              "    Active Min  Idle Mean   Idle Std   Idle Max   Idle Min   Label  \n",
              "0            0        0.0        0.0          0          0  BENIGN  \n",
              "1            0        0.0        0.0          0          0  BENIGN  \n",
              "2            0        0.0        0.0          0          0  BENIGN  \n",
              "3            0        0.0        0.0          0          0  BENIGN  \n",
              "4            0        0.0        0.0          0          0  BENIGN  \n",
              "\n",
              "[5 rows x 79 columns]"
            ],
            "text/html": [
              "\n",
              "  <div id=\"df-dbed9add-fd8d-4848-ac5c-20626bd4657c\" class=\"colab-df-container\">\n",
              "    <div>\n",
              "<style scoped>\n",
              "    .dataframe tbody tr th:only-of-type {\n",
              "        vertical-align: middle;\n",
              "    }\n",
              "\n",
              "    .dataframe tbody tr th {\n",
              "        vertical-align: top;\n",
              "    }\n",
              "\n",
              "    .dataframe thead th {\n",
              "        text-align: right;\n",
              "    }\n",
              "</style>\n",
              "<table border=\"1\" class=\"dataframe\">\n",
              "  <thead>\n",
              "    <tr style=\"text-align: right;\">\n",
              "      <th></th>\n",
              "      <th>Destination Port</th>\n",
              "      <th>Flow Duration</th>\n",
              "      <th>Total Fwd Packets</th>\n",
              "      <th>Total Backward Packets</th>\n",
              "      <th>Total Length of Fwd Packets</th>\n",
              "      <th>Total Length of Bwd Packets</th>\n",
              "      <th>Fwd Packet Length Max</th>\n",
              "      <th>Fwd Packet Length Min</th>\n",
              "      <th>Fwd Packet Length Mean</th>\n",
              "      <th>Fwd Packet Length Std</th>\n",
              "      <th>...</th>\n",
              "      <th>min_seg_size_forward</th>\n",
              "      <th>Active Mean</th>\n",
              "      <th>Active Std</th>\n",
              "      <th>Active Max</th>\n",
              "      <th>Active Min</th>\n",
              "      <th>Idle Mean</th>\n",
              "      <th>Idle Std</th>\n",
              "      <th>Idle Max</th>\n",
              "      <th>Idle Min</th>\n",
              "      <th>Label</th>\n",
              "    </tr>\n",
              "  </thead>\n",
              "  <tbody>\n",
              "    <tr>\n",
              "      <th>0</th>\n",
              "      <td>54865</td>\n",
              "      <td>3</td>\n",
              "      <td>2</td>\n",
              "      <td>0</td>\n",
              "      <td>12</td>\n",
              "      <td>0</td>\n",
              "      <td>6</td>\n",
              "      <td>6</td>\n",
              "      <td>6.0</td>\n",
              "      <td>0.0</td>\n",
              "      <td>...</td>\n",
              "      <td>20</td>\n",
              "      <td>0.0</td>\n",
              "      <td>0.0</td>\n",
              "      <td>0</td>\n",
              "      <td>0</td>\n",
              "      <td>0.0</td>\n",
              "      <td>0.0</td>\n",
              "      <td>0</td>\n",
              "      <td>0</td>\n",
              "      <td>BENIGN</td>\n",
              "    </tr>\n",
              "    <tr>\n",
              "      <th>1</th>\n",
              "      <td>55054</td>\n",
              "      <td>109</td>\n",
              "      <td>1</td>\n",
              "      <td>1</td>\n",
              "      <td>6</td>\n",
              "      <td>6</td>\n",
              "      <td>6</td>\n",
              "      <td>6</td>\n",
              "      <td>6.0</td>\n",
              "      <td>0.0</td>\n",
              "      <td>...</td>\n",
              "      <td>20</td>\n",
              "      <td>0.0</td>\n",
              "      <td>0.0</td>\n",
              "      <td>0</td>\n",
              "      <td>0</td>\n",
              "      <td>0.0</td>\n",
              "      <td>0.0</td>\n",
              "      <td>0</td>\n",
              "      <td>0</td>\n",
              "      <td>BENIGN</td>\n",
              "    </tr>\n",
              "    <tr>\n",
              "      <th>2</th>\n",
              "      <td>55055</td>\n",
              "      <td>52</td>\n",
              "      <td>1</td>\n",
              "      <td>1</td>\n",
              "      <td>6</td>\n",
              "      <td>6</td>\n",
              "      <td>6</td>\n",
              "      <td>6</td>\n",
              "      <td>6.0</td>\n",
              "      <td>0.0</td>\n",
              "      <td>...</td>\n",
              "      <td>20</td>\n",
              "      <td>0.0</td>\n",
              "      <td>0.0</td>\n",
              "      <td>0</td>\n",
              "      <td>0</td>\n",
              "      <td>0.0</td>\n",
              "      <td>0.0</td>\n",
              "      <td>0</td>\n",
              "      <td>0</td>\n",
              "      <td>BENIGN</td>\n",
              "    </tr>\n",
              "    <tr>\n",
              "      <th>3</th>\n",
              "      <td>46236</td>\n",
              "      <td>34</td>\n",
              "      <td>1</td>\n",
              "      <td>1</td>\n",
              "      <td>6</td>\n",
              "      <td>6</td>\n",
              "      <td>6</td>\n",
              "      <td>6</td>\n",
              "      <td>6.0</td>\n",
              "      <td>0.0</td>\n",
              "      <td>...</td>\n",
              "      <td>20</td>\n",
              "      <td>0.0</td>\n",
              "      <td>0.0</td>\n",
              "      <td>0</td>\n",
              "      <td>0</td>\n",
              "      <td>0.0</td>\n",
              "      <td>0.0</td>\n",
              "      <td>0</td>\n",
              "      <td>0</td>\n",
              "      <td>BENIGN</td>\n",
              "    </tr>\n",
              "    <tr>\n",
              "      <th>4</th>\n",
              "      <td>54863</td>\n",
              "      <td>3</td>\n",
              "      <td>2</td>\n",
              "      <td>0</td>\n",
              "      <td>12</td>\n",
              "      <td>0</td>\n",
              "      <td>6</td>\n",
              "      <td>6</td>\n",
              "      <td>6.0</td>\n",
              "      <td>0.0</td>\n",
              "      <td>...</td>\n",
              "      <td>20</td>\n",
              "      <td>0.0</td>\n",
              "      <td>0.0</td>\n",
              "      <td>0</td>\n",
              "      <td>0</td>\n",
              "      <td>0.0</td>\n",
              "      <td>0.0</td>\n",
              "      <td>0</td>\n",
              "      <td>0</td>\n",
              "      <td>BENIGN</td>\n",
              "    </tr>\n",
              "  </tbody>\n",
              "</table>\n",
              "<p>5 rows × 79 columns</p>\n",
              "</div>\n",
              "    <div class=\"colab-df-buttons\">\n",
              "\n",
              "  <div class=\"colab-df-container\">\n",
              "    <button class=\"colab-df-convert\" onclick=\"convertToInteractive('df-dbed9add-fd8d-4848-ac5c-20626bd4657c')\"\n",
              "            title=\"Convert this dataframe to an interactive table.\"\n",
              "            style=\"display:none;\">\n",
              "\n",
              "  <svg xmlns=\"http://www.w3.org/2000/svg\" height=\"24px\" viewBox=\"0 -960 960 960\">\n",
              "    <path d=\"M120-120v-720h720v720H120Zm60-500h600v-160H180v160Zm220 220h160v-160H400v160Zm0 220h160v-160H400v160ZM180-400h160v-160H180v160Zm440 0h160v-160H620v160ZM180-180h160v-160H180v160Zm440 0h160v-160H620v160Z\"/>\n",
              "  </svg>\n",
              "    </button>\n",
              "\n",
              "  <style>\n",
              "    .colab-df-container {\n",
              "      display:flex;\n",
              "      gap: 12px;\n",
              "    }\n",
              "\n",
              "    .colab-df-convert {\n",
              "      background-color: #E8F0FE;\n",
              "      border: none;\n",
              "      border-radius: 50%;\n",
              "      cursor: pointer;\n",
              "      display: none;\n",
              "      fill: #1967D2;\n",
              "      height: 32px;\n",
              "      padding: 0 0 0 0;\n",
              "      width: 32px;\n",
              "    }\n",
              "\n",
              "    .colab-df-convert:hover {\n",
              "      background-color: #E2EBFA;\n",
              "      box-shadow: 0px 1px 2px rgba(60, 64, 67, 0.3), 0px 1px 3px 1px rgba(60, 64, 67, 0.15);\n",
              "      fill: #174EA6;\n",
              "    }\n",
              "\n",
              "    .colab-df-buttons div {\n",
              "      margin-bottom: 4px;\n",
              "    }\n",
              "\n",
              "    [theme=dark] .colab-df-convert {\n",
              "      background-color: #3B4455;\n",
              "      fill: #D2E3FC;\n",
              "    }\n",
              "\n",
              "    [theme=dark] .colab-df-convert:hover {\n",
              "      background-color: #434B5C;\n",
              "      box-shadow: 0px 1px 3px 1px rgba(0, 0, 0, 0.15);\n",
              "      filter: drop-shadow(0px 1px 2px rgba(0, 0, 0, 0.3));\n",
              "      fill: #FFFFFF;\n",
              "    }\n",
              "  </style>\n",
              "\n",
              "    <script>\n",
              "      const buttonEl =\n",
              "        document.querySelector('#df-dbed9add-fd8d-4848-ac5c-20626bd4657c button.colab-df-convert');\n",
              "      buttonEl.style.display =\n",
              "        google.colab.kernel.accessAllowed ? 'block' : 'none';\n",
              "\n",
              "      async function convertToInteractive(key) {\n",
              "        const element = document.querySelector('#df-dbed9add-fd8d-4848-ac5c-20626bd4657c');\n",
              "        const dataTable =\n",
              "          await google.colab.kernel.invokeFunction('convertToInteractive',\n",
              "                                                    [key], {});\n",
              "        if (!dataTable) return;\n",
              "\n",
              "        const docLinkHtml = 'Like what you see? Visit the ' +\n",
              "          '<a target=\"_blank\" href=https://colab.research.google.com/notebooks/data_table.ipynb>data table notebook</a>'\n",
              "          + ' to learn more about interactive tables.';\n",
              "        element.innerHTML = '';\n",
              "        dataTable['output_type'] = 'display_data';\n",
              "        await google.colab.output.renderOutput(dataTable, element);\n",
              "        const docLink = document.createElement('div');\n",
              "        docLink.innerHTML = docLinkHtml;\n",
              "        element.appendChild(docLink);\n",
              "      }\n",
              "    </script>\n",
              "  </div>\n",
              "\n",
              "\n",
              "<div id=\"df-5bd2e90b-5bdd-4a41-8438-634780193814\">\n",
              "  <button class=\"colab-df-quickchart\" onclick=\"quickchart('df-5bd2e90b-5bdd-4a41-8438-634780193814')\"\n",
              "            title=\"Suggest charts\"\n",
              "            style=\"display:none;\">\n",
              "\n",
              "<svg xmlns=\"http://www.w3.org/2000/svg\" height=\"24px\"viewBox=\"0 0 24 24\"\n",
              "     width=\"24px\">\n",
              "    <g>\n",
              "        <path d=\"M19 3H5c-1.1 0-2 .9-2 2v14c0 1.1.9 2 2 2h14c1.1 0 2-.9 2-2V5c0-1.1-.9-2-2-2zM9 17H7v-7h2v7zm4 0h-2V7h2v10zm4 0h-2v-4h2v4z\"/>\n",
              "    </g>\n",
              "</svg>\n",
              "  </button>\n",
              "\n",
              "<style>\n",
              "  .colab-df-quickchart {\n",
              "      --bg-color: #E8F0FE;\n",
              "      --fill-color: #1967D2;\n",
              "      --hover-bg-color: #E2EBFA;\n",
              "      --hover-fill-color: #174EA6;\n",
              "      --disabled-fill-color: #AAA;\n",
              "      --disabled-bg-color: #DDD;\n",
              "  }\n",
              "\n",
              "  [theme=dark] .colab-df-quickchart {\n",
              "      --bg-color: #3B4455;\n",
              "      --fill-color: #D2E3FC;\n",
              "      --hover-bg-color: #434B5C;\n",
              "      --hover-fill-color: #FFFFFF;\n",
              "      --disabled-bg-color: #3B4455;\n",
              "      --disabled-fill-color: #666;\n",
              "  }\n",
              "\n",
              "  .colab-df-quickchart {\n",
              "    background-color: var(--bg-color);\n",
              "    border: none;\n",
              "    border-radius: 50%;\n",
              "    cursor: pointer;\n",
              "    display: none;\n",
              "    fill: var(--fill-color);\n",
              "    height: 32px;\n",
              "    padding: 0;\n",
              "    width: 32px;\n",
              "  }\n",
              "\n",
              "  .colab-df-quickchart:hover {\n",
              "    background-color: var(--hover-bg-color);\n",
              "    box-shadow: 0 1px 2px rgba(60, 64, 67, 0.3), 0 1px 3px 1px rgba(60, 64, 67, 0.15);\n",
              "    fill: var(--button-hover-fill-color);\n",
              "  }\n",
              "\n",
              "  .colab-df-quickchart-complete:disabled,\n",
              "  .colab-df-quickchart-complete:disabled:hover {\n",
              "    background-color: var(--disabled-bg-color);\n",
              "    fill: var(--disabled-fill-color);\n",
              "    box-shadow: none;\n",
              "  }\n",
              "\n",
              "  .colab-df-spinner {\n",
              "    border: 2px solid var(--fill-color);\n",
              "    border-color: transparent;\n",
              "    border-bottom-color: var(--fill-color);\n",
              "    animation:\n",
              "      spin 1s steps(1) infinite;\n",
              "  }\n",
              "\n",
              "  @keyframes spin {\n",
              "    0% {\n",
              "      border-color: transparent;\n",
              "      border-bottom-color: var(--fill-color);\n",
              "      border-left-color: var(--fill-color);\n",
              "    }\n",
              "    20% {\n",
              "      border-color: transparent;\n",
              "      border-left-color: var(--fill-color);\n",
              "      border-top-color: var(--fill-color);\n",
              "    }\n",
              "    30% {\n",
              "      border-color: transparent;\n",
              "      border-left-color: var(--fill-color);\n",
              "      border-top-color: var(--fill-color);\n",
              "      border-right-color: var(--fill-color);\n",
              "    }\n",
              "    40% {\n",
              "      border-color: transparent;\n",
              "      border-right-color: var(--fill-color);\n",
              "      border-top-color: var(--fill-color);\n",
              "    }\n",
              "    60% {\n",
              "      border-color: transparent;\n",
              "      border-right-color: var(--fill-color);\n",
              "    }\n",
              "    80% {\n",
              "      border-color: transparent;\n",
              "      border-right-color: var(--fill-color);\n",
              "      border-bottom-color: var(--fill-color);\n",
              "    }\n",
              "    90% {\n",
              "      border-color: transparent;\n",
              "      border-bottom-color: var(--fill-color);\n",
              "    }\n",
              "  }\n",
              "</style>\n",
              "\n",
              "  <script>\n",
              "    async function quickchart(key) {\n",
              "      const quickchartButtonEl =\n",
              "        document.querySelector('#' + key + ' button');\n",
              "      quickchartButtonEl.disabled = true;  // To prevent multiple clicks.\n",
              "      quickchartButtonEl.classList.add('colab-df-spinner');\n",
              "      try {\n",
              "        const charts = await google.colab.kernel.invokeFunction(\n",
              "            'suggestCharts', [key], {});\n",
              "      } catch (error) {\n",
              "        console.error('Error during call to suggestCharts:', error);\n",
              "      }\n",
              "      quickchartButtonEl.classList.remove('colab-df-spinner');\n",
              "      quickchartButtonEl.classList.add('colab-df-quickchart-complete');\n",
              "    }\n",
              "    (() => {\n",
              "      let quickchartButtonEl =\n",
              "        document.querySelector('#df-5bd2e90b-5bdd-4a41-8438-634780193814 button');\n",
              "      quickchartButtonEl.style.display =\n",
              "        google.colab.kernel.accessAllowed ? 'block' : 'none';\n",
              "    })();\n",
              "  </script>\n",
              "</div>\n",
              "\n",
              "    </div>\n",
              "  </div>\n"
            ],
            "application/vnd.google.colaboratory.intrinsic+json": {
              "type": "dataframe",
              "variable_name": "data"
            }
          },
          "metadata": {},
          "execution_count": 4
        }
      ]
    },
    {
      "cell_type": "code",
      "source": [
        "print(f\"Dataset Dimensions: {data.shape}\")"
      ],
      "metadata": {
        "colab": {
          "base_uri": "https://localhost:8080/"
        },
        "id": "mMlQgglNUvO0",
        "outputId": "2b6dcc7a-f06d-410f-aa6a-6cc8dc4ed9d4"
      },
      "execution_count": 5,
      "outputs": [
        {
          "output_type": "stream",
          "name": "stdout",
          "text": [
            "Dataset Dimensions: (2830743, 79)\n"
          ]
        }
      ]
    },
    {
      "cell_type": "code",
      "source": [
        "data.info()"
      ],
      "metadata": {
        "colab": {
          "base_uri": "https://localhost:8080/"
        },
        "id": "c86Ea0XOUx-D",
        "outputId": "d2d3e6ea-6e74-4d09-e95b-64a575bf7f45"
      },
      "execution_count": 6,
      "outputs": [
        {
          "output_type": "stream",
          "name": "stdout",
          "text": [
            "<class 'pandas.core.frame.DataFrame'>\n",
            "RangeIndex: 2830743 entries, 0 to 2830742\n",
            "Data columns (total 79 columns):\n",
            " #   Column                        Dtype  \n",
            "---  ------                        -----  \n",
            " 0    Destination Port             int64  \n",
            " 1    Flow Duration                int64  \n",
            " 2    Total Fwd Packets            int64  \n",
            " 3    Total Backward Packets       int64  \n",
            " 4   Total Length of Fwd Packets   int64  \n",
            " 5    Total Length of Bwd Packets  int64  \n",
            " 6    Fwd Packet Length Max        int64  \n",
            " 7    Fwd Packet Length Min        int64  \n",
            " 8    Fwd Packet Length Mean       float64\n",
            " 9    Fwd Packet Length Std        float64\n",
            " 10  Bwd Packet Length Max         int64  \n",
            " 11   Bwd Packet Length Min        int64  \n",
            " 12   Bwd Packet Length Mean       float64\n",
            " 13   Bwd Packet Length Std        float64\n",
            " 14  Flow Bytes/s                  float64\n",
            " 15   Flow Packets/s               float64\n",
            " 16   Flow IAT Mean                float64\n",
            " 17   Flow IAT Std                 float64\n",
            " 18   Flow IAT Max                 int64  \n",
            " 19   Flow IAT Min                 int64  \n",
            " 20  Fwd IAT Total                 int64  \n",
            " 21   Fwd IAT Mean                 float64\n",
            " 22   Fwd IAT Std                  float64\n",
            " 23   Fwd IAT Max                  int64  \n",
            " 24   Fwd IAT Min                  int64  \n",
            " 25  Bwd IAT Total                 int64  \n",
            " 26   Bwd IAT Mean                 float64\n",
            " 27   Bwd IAT Std                  float64\n",
            " 28   Bwd IAT Max                  int64  \n",
            " 29   Bwd IAT Min                  int64  \n",
            " 30  Fwd PSH Flags                 int64  \n",
            " 31   Bwd PSH Flags                int64  \n",
            " 32   Fwd URG Flags                int64  \n",
            " 33   Bwd URG Flags                int64  \n",
            " 34   Fwd Header Length            int64  \n",
            " 35   Bwd Header Length            int64  \n",
            " 36  Fwd Packets/s                 float64\n",
            " 37   Bwd Packets/s                float64\n",
            " 38   Min Packet Length            int64  \n",
            " 39   Max Packet Length            int64  \n",
            " 40   Packet Length Mean           float64\n",
            " 41   Packet Length Std            float64\n",
            " 42   Packet Length Variance       float64\n",
            " 43  FIN Flag Count                int64  \n",
            " 44   SYN Flag Count               int64  \n",
            " 45   RST Flag Count               int64  \n",
            " 46   PSH Flag Count               int64  \n",
            " 47   ACK Flag Count               int64  \n",
            " 48   URG Flag Count               int64  \n",
            " 49   CWE Flag Count               int64  \n",
            " 50   ECE Flag Count               int64  \n",
            " 51   Down/Up Ratio                int64  \n",
            " 52   Average Packet Size          float64\n",
            " 53   Avg Fwd Segment Size         float64\n",
            " 54   Avg Bwd Segment Size         float64\n",
            " 55   Fwd Header Length.1          int64  \n",
            " 56  Fwd Avg Bytes/Bulk            int64  \n",
            " 57   Fwd Avg Packets/Bulk         int64  \n",
            " 58   Fwd Avg Bulk Rate            int64  \n",
            " 59   Bwd Avg Bytes/Bulk           int64  \n",
            " 60   Bwd Avg Packets/Bulk         int64  \n",
            " 61  Bwd Avg Bulk Rate             int64  \n",
            " 62  Subflow Fwd Packets           int64  \n",
            " 63   Subflow Fwd Bytes            int64  \n",
            " 64   Subflow Bwd Packets          int64  \n",
            " 65   Subflow Bwd Bytes            int64  \n",
            " 66  Init_Win_bytes_forward        int64  \n",
            " 67   Init_Win_bytes_backward      int64  \n",
            " 68   act_data_pkt_fwd             int64  \n",
            " 69   min_seg_size_forward         int64  \n",
            " 70  Active Mean                   float64\n",
            " 71   Active Std                   float64\n",
            " 72   Active Max                   int64  \n",
            " 73   Active Min                   int64  \n",
            " 74  Idle Mean                     float64\n",
            " 75   Idle Std                     float64\n",
            " 76   Idle Max                     int64  \n",
            " 77   Idle Min                     int64  \n",
            " 78   Label                        object \n",
            "dtypes: float64(24), int64(54), object(1)\n",
            "memory usage: 1.7+ GB\n"
          ]
        }
      ]
    },
    {
      "cell_type": "code",
      "source": [
        "def optimize_dtypes(df):\n",
        "    for col in df.columns:\n",
        "        if df[col].dtype == 'float64':\n",
        "            df[col] = df[col].astype('float32')\n",
        "        elif df[col].dtype == 'int64':\n",
        "            df[col] = df[col].astype('int32')\n",
        "    return df\n",
        "\n",
        "data = optimize_dtypes(data)"
      ],
      "metadata": {
        "id": "Zl4V9QBgU0ox"
      },
      "execution_count": 22,
      "outputs": []
    },
    {
      "cell_type": "code",
      "source": [
        "data.info()"
      ],
      "metadata": {
        "colab": {
          "base_uri": "https://localhost:8080/"
        },
        "id": "_2o2JGCwU4UQ",
        "outputId": "921053b6-f3c3-45f4-cb2c-74b08d669192"
      },
      "execution_count": 23,
      "outputs": [
        {
          "output_type": "stream",
          "name": "stdout",
          "text": [
            "<class 'pandas.core.frame.DataFrame'>\n",
            "RangeIndex: 2830743 entries, 0 to 2830742\n",
            "Data columns (total 79 columns):\n",
            " #   Column                        Dtype  \n",
            "---  ------                        -----  \n",
            " 0    Destination Port             int32  \n",
            " 1    Flow Duration                int32  \n",
            " 2    Total Fwd Packets            int32  \n",
            " 3    Total Backward Packets       int32  \n",
            " 4   Total Length of Fwd Packets   int32  \n",
            " 5    Total Length of Bwd Packets  int32  \n",
            " 6    Fwd Packet Length Max        int32  \n",
            " 7    Fwd Packet Length Min        int32  \n",
            " 8    Fwd Packet Length Mean       float32\n",
            " 9    Fwd Packet Length Std        float32\n",
            " 10  Bwd Packet Length Max         int32  \n",
            " 11   Bwd Packet Length Min        int32  \n",
            " 12   Bwd Packet Length Mean       float32\n",
            " 13   Bwd Packet Length Std        float32\n",
            " 14  Flow Bytes/s                  float32\n",
            " 15   Flow Packets/s               float32\n",
            " 16   Flow IAT Mean                float32\n",
            " 17   Flow IAT Std                 float32\n",
            " 18   Flow IAT Max                 int32  \n",
            " 19   Flow IAT Min                 int32  \n",
            " 20  Fwd IAT Total                 int32  \n",
            " 21   Fwd IAT Mean                 float32\n",
            " 22   Fwd IAT Std                  float32\n",
            " 23   Fwd IAT Max                  int32  \n",
            " 24   Fwd IAT Min                  int32  \n",
            " 25  Bwd IAT Total                 int32  \n",
            " 26   Bwd IAT Mean                 float32\n",
            " 27   Bwd IAT Std                  float32\n",
            " 28   Bwd IAT Max                  int32  \n",
            " 29   Bwd IAT Min                  int32  \n",
            " 30  Fwd PSH Flags                 int32  \n",
            " 31   Bwd PSH Flags                int32  \n",
            " 32   Fwd URG Flags                int32  \n",
            " 33   Bwd URG Flags                int32  \n",
            " 34   Fwd Header Length            int32  \n",
            " 35   Bwd Header Length            int32  \n",
            " 36  Fwd Packets/s                 float32\n",
            " 37   Bwd Packets/s                float32\n",
            " 38   Min Packet Length            int32  \n",
            " 39   Max Packet Length            int32  \n",
            " 40   Packet Length Mean           float32\n",
            " 41   Packet Length Std            float32\n",
            " 42   Packet Length Variance       float32\n",
            " 43  FIN Flag Count                int32  \n",
            " 44   SYN Flag Count               int32  \n",
            " 45   RST Flag Count               int32  \n",
            " 46   PSH Flag Count               int32  \n",
            " 47   ACK Flag Count               int32  \n",
            " 48   URG Flag Count               int32  \n",
            " 49   CWE Flag Count               int32  \n",
            " 50   ECE Flag Count               int32  \n",
            " 51   Down/Up Ratio                int32  \n",
            " 52   Average Packet Size          float32\n",
            " 53   Avg Fwd Segment Size         float32\n",
            " 54   Avg Bwd Segment Size         float32\n",
            " 55   Fwd Header Length.1          int32  \n",
            " 56  Fwd Avg Bytes/Bulk            int32  \n",
            " 57   Fwd Avg Packets/Bulk         int32  \n",
            " 58   Fwd Avg Bulk Rate            int32  \n",
            " 59   Bwd Avg Bytes/Bulk           int32  \n",
            " 60   Bwd Avg Packets/Bulk         int32  \n",
            " 61  Bwd Avg Bulk Rate             int32  \n",
            " 62  Subflow Fwd Packets           int32  \n",
            " 63   Subflow Fwd Bytes            int32  \n",
            " 64   Subflow Bwd Packets          int32  \n",
            " 65   Subflow Bwd Bytes            int32  \n",
            " 66  Init_Win_bytes_forward        int32  \n",
            " 67   Init_Win_bytes_backward      int32  \n",
            " 68   act_data_pkt_fwd             int32  \n",
            " 69   min_seg_size_forward         int32  \n",
            " 70  Active Mean                   float32\n",
            " 71   Active Std                   float32\n",
            " 72   Active Max                   int32  \n",
            " 73   Active Min                   int32  \n",
            " 74  Idle Mean                     float32\n",
            " 75   Idle Std                     float32\n",
            " 76   Idle Max                     int32  \n",
            " 77   Idle Min                     int32  \n",
            " 78   Label                        object \n",
            "dtypes: float32(24), int32(54), object(1)\n",
            "memory usage: 863.9+ MB\n"
          ]
        }
      ]
    },
    {
      "cell_type": "code",
      "source": [
        "# Checking for missing values\n",
        "missing_values = data.isna().sum()\n",
        "missing_percentage = (missing_values / len(data)) * 100\n",
        "\n",
        "# Printing columns with missing values\n",
        "for column, count in missing_values.items():\n",
        "    if count != 0:\n",
        "        print(f\"Column '{column}' has {count} missing values, which is {missing_percentage[column]:.2f}% of the total\")"
      ],
      "metadata": {
        "colab": {
          "base_uri": "https://localhost:8080/"
        },
        "id": "ecnakQPPU6xM",
        "outputId": "c834d5da-6bca-4e25-8660-a3e0a63f7527"
      },
      "execution_count": 7,
      "outputs": [
        {
          "output_type": "stream",
          "name": "stdout",
          "text": [
            "Column 'Flow Bytes/s' has 1358 missing values, which is 0.05% of the total\n"
          ]
        }
      ]
    },
    {
      "cell_type": "code",
      "source": [
        "# Removal of leading/trailing whitespace\n",
        "col_names = {col: col.strip() for col in data.columns}\n",
        "data.rename(columns = col_names, inplace = True)"
      ],
      "metadata": {
        "id": "-7wVEwQrVEIA"
      },
      "execution_count": 8,
      "outputs": []
    },
    {
      "cell_type": "code",
      "source": [
        "duplicate_count = data.duplicated().sum()\n",
        "print(f\"Number of duplicate rows: {duplicate_count:,}\")"
      ],
      "metadata": {
        "colab": {
          "base_uri": "https://localhost:8080/"
        },
        "id": "LCVjimYtVIm5",
        "outputId": "a8906997-4d65-4c3f-b5a0-89018a181a6e"
      },
      "execution_count": 10,
      "outputs": [
        {
          "output_type": "stream",
          "name": "stdout",
          "text": [
            "Number of duplicate rows: 308,381\n"
          ]
        }
      ]
    },
    {
      "cell_type": "code",
      "source": [
        "data = data.drop_duplicates(keep='first')\n",
        "gc.collect()"
      ],
      "metadata": {
        "colab": {
          "base_uri": "https://localhost:8080/"
        },
        "id": "STwMzVG7WHo7",
        "outputId": "4c44538b-2111-4f22-bed1-10e96ebd9cde"
      },
      "execution_count": 11,
      "outputs": [
        {
          "output_type": "execute_result",
          "data": {
            "text/plain": [
              "180"
            ]
          },
          "metadata": {},
          "execution_count": 11
        }
      ]
    },
    {
      "cell_type": "code",
      "source": [
        "data.shape"
      ],
      "metadata": {
        "colab": {
          "base_uri": "https://localhost:8080/"
        },
        "id": "ol6sO0inWRsB",
        "outputId": "87fd0ea7-105e-492b-c8f9-b232f76c1a46"
      },
      "execution_count": 12,
      "outputs": [
        {
          "output_type": "execute_result",
          "data": {
            "text/plain": [
              "(2522362, 79)"
            ]
          },
          "metadata": {},
          "execution_count": 12
        }
      ]
    },
    {
      "cell_type": "code",
      "source": [
        "# Identify columns with identical data\n",
        "identical_columns = {}\n",
        "columns = data.columns\n",
        "list_control = columns.copy().tolist()\n",
        "\n",
        "# Compare each pair of columns\n",
        "for col1 in columns:\n",
        "    for col2 in columns:\n",
        "        if col1 != col2:\n",
        "            if data[col1].equals(data[col2]):\n",
        "                if (col1 not in identical_columns) and (col1 in list_control):\n",
        "                    identical_columns[col1] = [col2]\n",
        "                    list_control.remove(col2)\n",
        "                elif (col1 in identical_columns) and (col1 in list_control):\n",
        "                    identical_columns[col1].append(col2)\n",
        "                    list_control.remove(col2)\n",
        "\n",
        "# Print the result\n",
        "if identical_columns:\n",
        "    print(\"Identical columns found:\")\n",
        "    for key, value in identical_columns.items():\n",
        "        print(f\"'{key}' is identical to {value}\")\n",
        "else: print(\"No identical columns found.\")"
      ],
      "metadata": {
        "colab": {
          "base_uri": "https://localhost:8080/"
        },
        "id": "JXOC3MQhYEyi",
        "outputId": "a60ab74c-bdf1-46b8-f9e6-6368c37d526e"
      },
      "execution_count": 13,
      "outputs": [
        {
          "output_type": "stream",
          "name": "stdout",
          "text": [
            "Identical columns found:\n",
            "'Total Fwd Packets' is identical to ['Subflow Fwd Packets']\n",
            "'Total Backward Packets' is identical to ['Subflow Bwd Packets']\n",
            "'Fwd PSH Flags' is identical to ['SYN Flag Count']\n",
            "'Bwd PSH Flags' is identical to ['Bwd URG Flags', 'Fwd Avg Bytes/Bulk', 'Fwd Avg Packets/Bulk', 'Fwd Avg Bulk Rate', 'Bwd Avg Bytes/Bulk', 'Bwd Avg Packets/Bulk', 'Bwd Avg Bulk Rate']\n",
            "'Fwd URG Flags' is identical to ['CWE Flag Count']\n",
            "'Fwd Header Length' is identical to ['Fwd Header Length.1']\n"
          ]
        }
      ]
    },
    {
      "cell_type": "code",
      "source": [
        "# Removing the columns with duplicated values\n",
        "for key, value in identical_columns.items():\n",
        "    data.drop(columns=value, inplace=True)"
      ],
      "metadata": {
        "id": "_PVtgtcQYYYG"
      },
      "execution_count": 14,
      "outputs": []
    },
    {
      "cell_type": "code",
      "source": [
        "print(data.columns)\n",
        "data.shape"
      ],
      "metadata": {
        "colab": {
          "base_uri": "https://localhost:8080/"
        },
        "id": "5pzT13YjYfbL",
        "outputId": "2a22ee1c-b7db-4270-91bb-354b16192c6f"
      },
      "execution_count": 15,
      "outputs": [
        {
          "output_type": "stream",
          "name": "stdout",
          "text": [
            "Index(['Destination Port', 'Flow Duration', 'Total Fwd Packets',\n",
            "       'Total Backward Packets', 'Total Length of Fwd Packets',\n",
            "       'Total Length of Bwd Packets', 'Fwd Packet Length Max',\n",
            "       'Fwd Packet Length Min', 'Fwd Packet Length Mean',\n",
            "       'Fwd Packet Length Std', 'Bwd Packet Length Max',\n",
            "       'Bwd Packet Length Min', 'Bwd Packet Length Mean',\n",
            "       'Bwd Packet Length Std', 'Flow Bytes/s', 'Flow Packets/s',\n",
            "       'Flow IAT Mean', 'Flow IAT Std', 'Flow IAT Max', 'Flow IAT Min',\n",
            "       'Fwd IAT Total', 'Fwd IAT Mean', 'Fwd IAT Std', 'Fwd IAT Max',\n",
            "       'Fwd IAT Min', 'Bwd IAT Total', 'Bwd IAT Mean', 'Bwd IAT Std',\n",
            "       'Bwd IAT Max', 'Bwd IAT Min', 'Fwd PSH Flags', 'Bwd PSH Flags',\n",
            "       'Fwd URG Flags', 'Fwd Header Length', 'Bwd Header Length',\n",
            "       'Fwd Packets/s', 'Bwd Packets/s', 'Min Packet Length',\n",
            "       'Max Packet Length', 'Packet Length Mean', 'Packet Length Std',\n",
            "       'Packet Length Variance', 'FIN Flag Count', 'RST Flag Count',\n",
            "       'PSH Flag Count', 'ACK Flag Count', 'URG Flag Count', 'ECE Flag Count',\n",
            "       'Down/Up Ratio', 'Average Packet Size', 'Avg Fwd Segment Size',\n",
            "       'Avg Bwd Segment Size', 'Subflow Fwd Bytes', 'Subflow Bwd Bytes',\n",
            "       'Init_Win_bytes_forward', 'Init_Win_bytes_backward', 'act_data_pkt_fwd',\n",
            "       'min_seg_size_forward', 'Active Mean', 'Active Std', 'Active Max',\n",
            "       'Active Min', 'Idle Mean', 'Idle Std', 'Idle Max', 'Idle Min', 'Label'],\n",
            "      dtype='object')\n"
          ]
        },
        {
          "output_type": "execute_result",
          "data": {
            "text/plain": [
              "(2522362, 67)"
            ]
          },
          "metadata": {},
          "execution_count": 15
        }
      ]
    },
    {
      "cell_type": "code",
      "source": [
        "num_columns = data.select_dtypes(include=np.number).columns\n",
        "\n",
        "# Check for infinite values\n",
        "inf_counts = np.isinf(data[num_columns]).sum()\n",
        "inf_columns = inf_counts[inf_counts > 0]\n",
        "\n",
        "if not inf_columns.empty:\n",
        "    print(\"\\nInfinite values found in:\")\n",
        "    for col, count in inf_columns.items():\n",
        "        print(f\"{col}: {count:,} infinite values\")\n",
        "\n",
        "    # Replace infinite values with NaN\n",
        "    data = data.replace([np.inf, -np.inf], np.nan)\n",
        "else:\n",
        "    print(\"\\nNo infinite values found.\")"
      ],
      "metadata": {
        "colab": {
          "base_uri": "https://localhost:8080/"
        },
        "id": "l_UK4xlqYh_e",
        "outputId": "e4dfe42a-222d-41ce-d062-4cf5614894a5"
      },
      "execution_count": 16,
      "outputs": [
        {
          "output_type": "stream",
          "name": "stdout",
          "text": [
            "\n",
            "Infinite values found in:\n",
            "Flow Bytes/s: 1,211 infinite values\n",
            "Flow Packets/s: 1,564 infinite values\n"
          ]
        }
      ]
    },
    {
      "cell_type": "code",
      "source": [
        "# Attack counts\n",
        "attack_counts = data['Label'].value_counts().reset_index()\n",
        "attack_counts.columns = ['Attack Type', 'Number of Occurrences']\n",
        "\n",
        "# Duplicating the df and dropping rows with missing values\n",
        "data_no_na = data.dropna()\n",
        "\n",
        "# Counting the total number of occurrences of each attack after dropping\n",
        "occurrences_nonull = data_no_na['Label'].value_counts().reset_index()\n",
        "occurrences_nonull.columns = ['Attack Type', 'Occurrences w/o Null Rows']\n",
        "\n",
        "# Merging the DataFrames\n",
        "attack_counts = attack_counts.merge(occurrences_nonull, on='Attack Type', how='left')\n",
        "\n",
        "# Calculating the difference\n",
        "attack_counts['Abs Difference'] = attack_counts['Number of Occurrences'] - attack_counts['Occurrences w/o Null Rows']\n",
        "attack_counts['Difference %'] = ((attack_counts['Abs Difference'] * 100) / attack_counts['Number of Occurrences']).round(2)\n",
        "\n",
        "# Visualization\n",
        "attack_counts"
      ],
      "metadata": {
        "colab": {
          "base_uri": "https://localhost:8080/",
          "height": 606
        },
        "id": "V-j8zZEpZAvT",
        "outputId": "1601c4b2-8c67-48b2-d0a6-3777ca1b6ea2"
      },
      "execution_count": 17,
      "outputs": [
        {
          "output_type": "execute_result",
          "data": {
            "text/plain": [
              "                   Attack Type  Number of Occurrences  \\\n",
              "0                       BENIGN                2096484   \n",
              "1                     DoS Hulk                 172849   \n",
              "2                         DDoS                 128016   \n",
              "3                     PortScan                  90819   \n",
              "4                DoS GoldenEye                  10286   \n",
              "5                  FTP-Patator                   5933   \n",
              "6                DoS slowloris                   5385   \n",
              "7             DoS Slowhttptest                   5228   \n",
              "8                  SSH-Patator                   3219   \n",
              "9                          Bot                   1953   \n",
              "10    Web Attack � Brute Force                   1470   \n",
              "11            Web Attack � XSS                    652   \n",
              "12                Infiltration                     36   \n",
              "13  Web Attack � Sql Injection                     21   \n",
              "14                  Heartbleed                     11   \n",
              "\n",
              "    Occurrences w/o Null Rows  Abs Difference  Difference %  \n",
              "0                     2095057            1427          0.07  \n",
              "1                      172846               3          0.00  \n",
              "2                      128014               2          0.00  \n",
              "3                       90694             125          0.14  \n",
              "4                       10286               0          0.00  \n",
              "5                        5931               2          0.03  \n",
              "6                        5385               0          0.00  \n",
              "7                        5228               0          0.00  \n",
              "8                        3219               0          0.00  \n",
              "9                        1948               5          0.26  \n",
              "10                       1470               0          0.00  \n",
              "11                        652               0          0.00  \n",
              "12                         36               0          0.00  \n",
              "13                         21               0          0.00  \n",
              "14                         11               0          0.00  "
            ],
            "text/html": [
              "\n",
              "  <div id=\"df-2ba66e59-a0a8-48dd-8dd7-a8b9394d6965\" class=\"colab-df-container\">\n",
              "    <div>\n",
              "<style scoped>\n",
              "    .dataframe tbody tr th:only-of-type {\n",
              "        vertical-align: middle;\n",
              "    }\n",
              "\n",
              "    .dataframe tbody tr th {\n",
              "        vertical-align: top;\n",
              "    }\n",
              "\n",
              "    .dataframe thead th {\n",
              "        text-align: right;\n",
              "    }\n",
              "</style>\n",
              "<table border=\"1\" class=\"dataframe\">\n",
              "  <thead>\n",
              "    <tr style=\"text-align: right;\">\n",
              "      <th></th>\n",
              "      <th>Attack Type</th>\n",
              "      <th>Number of Occurrences</th>\n",
              "      <th>Occurrences w/o Null Rows</th>\n",
              "      <th>Abs Difference</th>\n",
              "      <th>Difference %</th>\n",
              "    </tr>\n",
              "  </thead>\n",
              "  <tbody>\n",
              "    <tr>\n",
              "      <th>0</th>\n",
              "      <td>BENIGN</td>\n",
              "      <td>2096484</td>\n",
              "      <td>2095057</td>\n",
              "      <td>1427</td>\n",
              "      <td>0.07</td>\n",
              "    </tr>\n",
              "    <tr>\n",
              "      <th>1</th>\n",
              "      <td>DoS Hulk</td>\n",
              "      <td>172849</td>\n",
              "      <td>172846</td>\n",
              "      <td>3</td>\n",
              "      <td>0.00</td>\n",
              "    </tr>\n",
              "    <tr>\n",
              "      <th>2</th>\n",
              "      <td>DDoS</td>\n",
              "      <td>128016</td>\n",
              "      <td>128014</td>\n",
              "      <td>2</td>\n",
              "      <td>0.00</td>\n",
              "    </tr>\n",
              "    <tr>\n",
              "      <th>3</th>\n",
              "      <td>PortScan</td>\n",
              "      <td>90819</td>\n",
              "      <td>90694</td>\n",
              "      <td>125</td>\n",
              "      <td>0.14</td>\n",
              "    </tr>\n",
              "    <tr>\n",
              "      <th>4</th>\n",
              "      <td>DoS GoldenEye</td>\n",
              "      <td>10286</td>\n",
              "      <td>10286</td>\n",
              "      <td>0</td>\n",
              "      <td>0.00</td>\n",
              "    </tr>\n",
              "    <tr>\n",
              "      <th>5</th>\n",
              "      <td>FTP-Patator</td>\n",
              "      <td>5933</td>\n",
              "      <td>5931</td>\n",
              "      <td>2</td>\n",
              "      <td>0.03</td>\n",
              "    </tr>\n",
              "    <tr>\n",
              "      <th>6</th>\n",
              "      <td>DoS slowloris</td>\n",
              "      <td>5385</td>\n",
              "      <td>5385</td>\n",
              "      <td>0</td>\n",
              "      <td>0.00</td>\n",
              "    </tr>\n",
              "    <tr>\n",
              "      <th>7</th>\n",
              "      <td>DoS Slowhttptest</td>\n",
              "      <td>5228</td>\n",
              "      <td>5228</td>\n",
              "      <td>0</td>\n",
              "      <td>0.00</td>\n",
              "    </tr>\n",
              "    <tr>\n",
              "      <th>8</th>\n",
              "      <td>SSH-Patator</td>\n",
              "      <td>3219</td>\n",
              "      <td>3219</td>\n",
              "      <td>0</td>\n",
              "      <td>0.00</td>\n",
              "    </tr>\n",
              "    <tr>\n",
              "      <th>9</th>\n",
              "      <td>Bot</td>\n",
              "      <td>1953</td>\n",
              "      <td>1948</td>\n",
              "      <td>5</td>\n",
              "      <td>0.26</td>\n",
              "    </tr>\n",
              "    <tr>\n",
              "      <th>10</th>\n",
              "      <td>Web Attack � Brute Force</td>\n",
              "      <td>1470</td>\n",
              "      <td>1470</td>\n",
              "      <td>0</td>\n",
              "      <td>0.00</td>\n",
              "    </tr>\n",
              "    <tr>\n",
              "      <th>11</th>\n",
              "      <td>Web Attack � XSS</td>\n",
              "      <td>652</td>\n",
              "      <td>652</td>\n",
              "      <td>0</td>\n",
              "      <td>0.00</td>\n",
              "    </tr>\n",
              "    <tr>\n",
              "      <th>12</th>\n",
              "      <td>Infiltration</td>\n",
              "      <td>36</td>\n",
              "      <td>36</td>\n",
              "      <td>0</td>\n",
              "      <td>0.00</td>\n",
              "    </tr>\n",
              "    <tr>\n",
              "      <th>13</th>\n",
              "      <td>Web Attack � Sql Injection</td>\n",
              "      <td>21</td>\n",
              "      <td>21</td>\n",
              "      <td>0</td>\n",
              "      <td>0.00</td>\n",
              "    </tr>\n",
              "    <tr>\n",
              "      <th>14</th>\n",
              "      <td>Heartbleed</td>\n",
              "      <td>11</td>\n",
              "      <td>11</td>\n",
              "      <td>0</td>\n",
              "      <td>0.00</td>\n",
              "    </tr>\n",
              "  </tbody>\n",
              "</table>\n",
              "</div>\n",
              "    <div class=\"colab-df-buttons\">\n",
              "\n",
              "  <div class=\"colab-df-container\">\n",
              "    <button class=\"colab-df-convert\" onclick=\"convertToInteractive('df-2ba66e59-a0a8-48dd-8dd7-a8b9394d6965')\"\n",
              "            title=\"Convert this dataframe to an interactive table.\"\n",
              "            style=\"display:none;\">\n",
              "\n",
              "  <svg xmlns=\"http://www.w3.org/2000/svg\" height=\"24px\" viewBox=\"0 -960 960 960\">\n",
              "    <path d=\"M120-120v-720h720v720H120Zm60-500h600v-160H180v160Zm220 220h160v-160H400v160Zm0 220h160v-160H400v160ZM180-400h160v-160H180v160Zm440 0h160v-160H620v160ZM180-180h160v-160H180v160Zm440 0h160v-160H620v160Z\"/>\n",
              "  </svg>\n",
              "    </button>\n",
              "\n",
              "  <style>\n",
              "    .colab-df-container {\n",
              "      display:flex;\n",
              "      gap: 12px;\n",
              "    }\n",
              "\n",
              "    .colab-df-convert {\n",
              "      background-color: #E8F0FE;\n",
              "      border: none;\n",
              "      border-radius: 50%;\n",
              "      cursor: pointer;\n",
              "      display: none;\n",
              "      fill: #1967D2;\n",
              "      height: 32px;\n",
              "      padding: 0 0 0 0;\n",
              "      width: 32px;\n",
              "    }\n",
              "\n",
              "    .colab-df-convert:hover {\n",
              "      background-color: #E2EBFA;\n",
              "      box-shadow: 0px 1px 2px rgba(60, 64, 67, 0.3), 0px 1px 3px 1px rgba(60, 64, 67, 0.15);\n",
              "      fill: #174EA6;\n",
              "    }\n",
              "\n",
              "    .colab-df-buttons div {\n",
              "      margin-bottom: 4px;\n",
              "    }\n",
              "\n",
              "    [theme=dark] .colab-df-convert {\n",
              "      background-color: #3B4455;\n",
              "      fill: #D2E3FC;\n",
              "    }\n",
              "\n",
              "    [theme=dark] .colab-df-convert:hover {\n",
              "      background-color: #434B5C;\n",
              "      box-shadow: 0px 1px 3px 1px rgba(0, 0, 0, 0.15);\n",
              "      filter: drop-shadow(0px 1px 2px rgba(0, 0, 0, 0.3));\n",
              "      fill: #FFFFFF;\n",
              "    }\n",
              "  </style>\n",
              "\n",
              "    <script>\n",
              "      const buttonEl =\n",
              "        document.querySelector('#df-2ba66e59-a0a8-48dd-8dd7-a8b9394d6965 button.colab-df-convert');\n",
              "      buttonEl.style.display =\n",
              "        google.colab.kernel.accessAllowed ? 'block' : 'none';\n",
              "\n",
              "      async function convertToInteractive(key) {\n",
              "        const element = document.querySelector('#df-2ba66e59-a0a8-48dd-8dd7-a8b9394d6965');\n",
              "        const dataTable =\n",
              "          await google.colab.kernel.invokeFunction('convertToInteractive',\n",
              "                                                    [key], {});\n",
              "        if (!dataTable) return;\n",
              "\n",
              "        const docLinkHtml = 'Like what you see? Visit the ' +\n",
              "          '<a target=\"_blank\" href=https://colab.research.google.com/notebooks/data_table.ipynb>data table notebook</a>'\n",
              "          + ' to learn more about interactive tables.';\n",
              "        element.innerHTML = '';\n",
              "        dataTable['output_type'] = 'display_data';\n",
              "        await google.colab.output.renderOutput(dataTable, element);\n",
              "        const docLink = document.createElement('div');\n",
              "        docLink.innerHTML = docLinkHtml;\n",
              "        element.appendChild(docLink);\n",
              "      }\n",
              "    </script>\n",
              "  </div>\n",
              "\n",
              "\n",
              "<div id=\"df-fc52bb5b-5c27-4914-8835-009d3d9bccb8\">\n",
              "  <button class=\"colab-df-quickchart\" onclick=\"quickchart('df-fc52bb5b-5c27-4914-8835-009d3d9bccb8')\"\n",
              "            title=\"Suggest charts\"\n",
              "            style=\"display:none;\">\n",
              "\n",
              "<svg xmlns=\"http://www.w3.org/2000/svg\" height=\"24px\"viewBox=\"0 0 24 24\"\n",
              "     width=\"24px\">\n",
              "    <g>\n",
              "        <path d=\"M19 3H5c-1.1 0-2 .9-2 2v14c0 1.1.9 2 2 2h14c1.1 0 2-.9 2-2V5c0-1.1-.9-2-2-2zM9 17H7v-7h2v7zm4 0h-2V7h2v10zm4 0h-2v-4h2v4z\"/>\n",
              "    </g>\n",
              "</svg>\n",
              "  </button>\n",
              "\n",
              "<style>\n",
              "  .colab-df-quickchart {\n",
              "      --bg-color: #E8F0FE;\n",
              "      --fill-color: #1967D2;\n",
              "      --hover-bg-color: #E2EBFA;\n",
              "      --hover-fill-color: #174EA6;\n",
              "      --disabled-fill-color: #AAA;\n",
              "      --disabled-bg-color: #DDD;\n",
              "  }\n",
              "\n",
              "  [theme=dark] .colab-df-quickchart {\n",
              "      --bg-color: #3B4455;\n",
              "      --fill-color: #D2E3FC;\n",
              "      --hover-bg-color: #434B5C;\n",
              "      --hover-fill-color: #FFFFFF;\n",
              "      --disabled-bg-color: #3B4455;\n",
              "      --disabled-fill-color: #666;\n",
              "  }\n",
              "\n",
              "  .colab-df-quickchart {\n",
              "    background-color: var(--bg-color);\n",
              "    border: none;\n",
              "    border-radius: 50%;\n",
              "    cursor: pointer;\n",
              "    display: none;\n",
              "    fill: var(--fill-color);\n",
              "    height: 32px;\n",
              "    padding: 0;\n",
              "    width: 32px;\n",
              "  }\n",
              "\n",
              "  .colab-df-quickchart:hover {\n",
              "    background-color: var(--hover-bg-color);\n",
              "    box-shadow: 0 1px 2px rgba(60, 64, 67, 0.3), 0 1px 3px 1px rgba(60, 64, 67, 0.15);\n",
              "    fill: var(--button-hover-fill-color);\n",
              "  }\n",
              "\n",
              "  .colab-df-quickchart-complete:disabled,\n",
              "  .colab-df-quickchart-complete:disabled:hover {\n",
              "    background-color: var(--disabled-bg-color);\n",
              "    fill: var(--disabled-fill-color);\n",
              "    box-shadow: none;\n",
              "  }\n",
              "\n",
              "  .colab-df-spinner {\n",
              "    border: 2px solid var(--fill-color);\n",
              "    border-color: transparent;\n",
              "    border-bottom-color: var(--fill-color);\n",
              "    animation:\n",
              "      spin 1s steps(1) infinite;\n",
              "  }\n",
              "\n",
              "  @keyframes spin {\n",
              "    0% {\n",
              "      border-color: transparent;\n",
              "      border-bottom-color: var(--fill-color);\n",
              "      border-left-color: var(--fill-color);\n",
              "    }\n",
              "    20% {\n",
              "      border-color: transparent;\n",
              "      border-left-color: var(--fill-color);\n",
              "      border-top-color: var(--fill-color);\n",
              "    }\n",
              "    30% {\n",
              "      border-color: transparent;\n",
              "      border-left-color: var(--fill-color);\n",
              "      border-top-color: var(--fill-color);\n",
              "      border-right-color: var(--fill-color);\n",
              "    }\n",
              "    40% {\n",
              "      border-color: transparent;\n",
              "      border-right-color: var(--fill-color);\n",
              "      border-top-color: var(--fill-color);\n",
              "    }\n",
              "    60% {\n",
              "      border-color: transparent;\n",
              "      border-right-color: var(--fill-color);\n",
              "    }\n",
              "    80% {\n",
              "      border-color: transparent;\n",
              "      border-right-color: var(--fill-color);\n",
              "      border-bottom-color: var(--fill-color);\n",
              "    }\n",
              "    90% {\n",
              "      border-color: transparent;\n",
              "      border-bottom-color: var(--fill-color);\n",
              "    }\n",
              "  }\n",
              "</style>\n",
              "\n",
              "  <script>\n",
              "    async function quickchart(key) {\n",
              "      const quickchartButtonEl =\n",
              "        document.querySelector('#' + key + ' button');\n",
              "      quickchartButtonEl.disabled = true;  // To prevent multiple clicks.\n",
              "      quickchartButtonEl.classList.add('colab-df-spinner');\n",
              "      try {\n",
              "        const charts = await google.colab.kernel.invokeFunction(\n",
              "            'suggestCharts', [key], {});\n",
              "      } catch (error) {\n",
              "        console.error('Error during call to suggestCharts:', error);\n",
              "      }\n",
              "      quickchartButtonEl.classList.remove('colab-df-spinner');\n",
              "      quickchartButtonEl.classList.add('colab-df-quickchart-complete');\n",
              "    }\n",
              "    (() => {\n",
              "      let quickchartButtonEl =\n",
              "        document.querySelector('#df-fc52bb5b-5c27-4914-8835-009d3d9bccb8 button');\n",
              "      quickchartButtonEl.style.display =\n",
              "        google.colab.kernel.accessAllowed ? 'block' : 'none';\n",
              "    })();\n",
              "  </script>\n",
              "</div>\n",
              "\n",
              "  <div id=\"id_5859102c-7f7c-44e0-a21e-123d980ab6d7\">\n",
              "    <style>\n",
              "      .colab-df-generate {\n",
              "        background-color: #E8F0FE;\n",
              "        border: none;\n",
              "        border-radius: 50%;\n",
              "        cursor: pointer;\n",
              "        display: none;\n",
              "        fill: #1967D2;\n",
              "        height: 32px;\n",
              "        padding: 0 0 0 0;\n",
              "        width: 32px;\n",
              "      }\n",
              "\n",
              "      .colab-df-generate:hover {\n",
              "        background-color: #E2EBFA;\n",
              "        box-shadow: 0px 1px 2px rgba(60, 64, 67, 0.3), 0px 1px 3px 1px rgba(60, 64, 67, 0.15);\n",
              "        fill: #174EA6;\n",
              "      }\n",
              "\n",
              "      [theme=dark] .colab-df-generate {\n",
              "        background-color: #3B4455;\n",
              "        fill: #D2E3FC;\n",
              "      }\n",
              "\n",
              "      [theme=dark] .colab-df-generate:hover {\n",
              "        background-color: #434B5C;\n",
              "        box-shadow: 0px 1px 3px 1px rgba(0, 0, 0, 0.15);\n",
              "        filter: drop-shadow(0px 1px 2px rgba(0, 0, 0, 0.3));\n",
              "        fill: #FFFFFF;\n",
              "      }\n",
              "    </style>\n",
              "    <button class=\"colab-df-generate\" onclick=\"generateWithVariable('attack_counts')\"\n",
              "            title=\"Generate code using this dataframe.\"\n",
              "            style=\"display:none;\">\n",
              "\n",
              "  <svg xmlns=\"http://www.w3.org/2000/svg\" height=\"24px\"viewBox=\"0 0 24 24\"\n",
              "       width=\"24px\">\n",
              "    <path d=\"M7,19H8.4L18.45,9,17,7.55,7,17.6ZM5,21V16.75L18.45,3.32a2,2,0,0,1,2.83,0l1.4,1.43a1.91,1.91,0,0,1,.58,1.4,1.91,1.91,0,0,1-.58,1.4L9.25,21ZM18.45,9,17,7.55Zm-12,3A5.31,5.31,0,0,0,4.9,8.1,5.31,5.31,0,0,0,1,6.5,5.31,5.31,0,0,0,4.9,4.9,5.31,5.31,0,0,0,6.5,1,5.31,5.31,0,0,0,8.1,4.9,5.31,5.31,0,0,0,12,6.5,5.46,5.46,0,0,0,6.5,12Z\"/>\n",
              "  </svg>\n",
              "    </button>\n",
              "    <script>\n",
              "      (() => {\n",
              "      const buttonEl =\n",
              "        document.querySelector('#id_5859102c-7f7c-44e0-a21e-123d980ab6d7 button.colab-df-generate');\n",
              "      buttonEl.style.display =\n",
              "        google.colab.kernel.accessAllowed ? 'block' : 'none';\n",
              "\n",
              "      buttonEl.onclick = () => {\n",
              "        google.colab.notebook.generateWithVariable('attack_counts');\n",
              "      }\n",
              "      })();\n",
              "    </script>\n",
              "  </div>\n",
              "\n",
              "    </div>\n",
              "  </div>\n"
            ],
            "application/vnd.google.colaboratory.intrinsic+json": {
              "type": "dataframe",
              "variable_name": "attack_counts",
              "summary": "{\n  \"name\": \"attack_counts\",\n  \"rows\": 15,\n  \"fields\": [\n    {\n      \"column\": \"Attack Type\",\n      \"properties\": {\n        \"dtype\": \"string\",\n        \"num_unique_values\": 15,\n        \"samples\": [\n          \"Bot\",\n          \"Web Attack \\ufffd XSS\",\n          \"BENIGN\"\n        ],\n        \"semantic_type\": \"\",\n        \"description\": \"\"\n      }\n    },\n    {\n      \"column\": \"Number of Occurrences\",\n      \"properties\": {\n        \"dtype\": \"number\",\n        \"std\": 536244,\n        \"min\": 11,\n        \"max\": 2096484,\n        \"num_unique_values\": 15,\n        \"samples\": [\n          1953,\n          652,\n          2096484\n        ],\n        \"semantic_type\": \"\",\n        \"description\": \"\"\n      }\n    },\n    {\n      \"column\": \"Occurrences w/o Null Rows\",\n      \"properties\": {\n        \"dtype\": \"number\",\n        \"std\": 535879,\n        \"min\": 11,\n        \"max\": 2095057,\n        \"num_unique_values\": 15,\n        \"samples\": [\n          1948,\n          652,\n          2095057\n        ],\n        \"semantic_type\": \"\",\n        \"description\": \"\"\n      }\n    },\n    {\n      \"column\": \"Abs Difference\",\n      \"properties\": {\n        \"dtype\": \"number\",\n        \"std\": 367,\n        \"min\": 0,\n        \"max\": 1427,\n        \"num_unique_values\": 6,\n        \"samples\": [\n          1427,\n          3,\n          5\n        ],\n        \"semantic_type\": \"\",\n        \"description\": \"\"\n      }\n    },\n    {\n      \"column\": \"Difference %\",\n      \"properties\": {\n        \"dtype\": \"number\",\n        \"std\": 0.07384023938464007,\n        \"min\": 0.0,\n        \"max\": 0.26,\n        \"num_unique_values\": 5,\n        \"samples\": [\n          0.0,\n          0.26,\n          0.14\n        ],\n        \"semantic_type\": \"\",\n        \"description\": \"\"\n      }\n    }\n  ]\n}"
            }
          },
          "metadata": {},
          "execution_count": 17
        }
      ]
    },
    {
      "cell_type": "code",
      "source": [
        "# Cleaning up\n",
        "del data_no_na\n",
        "\n",
        "# Evaluating percentage of missing values per column\n",
        "threshold = 10\n",
        "missing_percentage = (data.isnull().sum() / len(data)) * 100\n",
        "\n",
        "# Filter columns with missing values over the threshold\n",
        "high_missing_cols = missing_percentage[missing_percentage > threshold]\n",
        "\n",
        "# Print columns with high missing percentages\n",
        "if len(high_missing_cols) > 0:\n",
        "    print(f'The following columns have over {threshold}% of missing values:')\n",
        "    print(high_missing_cols)\n",
        "else:\n",
        "    print('There are no columns with missing values greater than the threshold')"
      ],
      "metadata": {
        "colab": {
          "base_uri": "https://localhost:8080/"
        },
        "id": "6-g6MfJMZf1q",
        "outputId": "ef2c2d0a-8329-4eb9-c7ae-b4b01490548f"
      },
      "execution_count": 18,
      "outputs": [
        {
          "output_type": "stream",
          "name": "stdout",
          "text": [
            "There are no columns with missing values greater than the threshold\n"
          ]
        }
      ]
    },
    {
      "cell_type": "code",
      "source": [
        "row_missing_percentage = (data.isna().sum(axis=1) / data.shape[1]) * 100\n",
        "print(row_missing_percentage.describe())\n",
        "\n",
        "missing_rows = data.isna().any(axis=1).sum()\n",
        "print(f'\\nTotal rows with missing values: {missing_rows}')"
      ],
      "metadata": {
        "colab": {
          "base_uri": "https://localhost:8080/"
        },
        "id": "rKliRe2bZkl3",
        "outputId": "36c3fe6e-da91-4339-a951-07d75b399183"
      },
      "execution_count": 19,
      "outputs": [
        {
          "output_type": "stream",
          "name": "stdout",
          "text": [
            "count    2.522362e+06\n",
            "mean     1.850907e-03\n",
            "std      7.430795e-02\n",
            "min      0.000000e+00\n",
            "25%      0.000000e+00\n",
            "50%      0.000000e+00\n",
            "75%      0.000000e+00\n",
            "max      2.985075e+00\n",
            "dtype: float64\n",
            "\n",
            "Total rows with missing values: 1564\n"
          ]
        }
      ]
    },
    {
      "cell_type": "code",
      "source": [
        "# Dropping missing values\n",
        "data = data.dropna()\n",
        "print(f'Dataset shape after row-wise removal: {data.shape}')"
      ],
      "metadata": {
        "colab": {
          "base_uri": "https://localhost:8080/"
        },
        "id": "MwHB3eXKZoeR",
        "outputId": "197f05ad-c55d-4c78-e5e9-c1d79af75a14"
      },
      "execution_count": 20,
      "outputs": [
        {
          "output_type": "stream",
          "name": "stdout",
          "text": [
            "Dataset shape after row-wise removal: (2520798, 67)\n"
          ]
        }
      ]
    },
    {
      "cell_type": "code",
      "source": [
        "# Check for numeric columns that contain only a single unique value, indicating no diversity in values.\n",
        "# Such columns contribute no useful information to the analysis and may be candidates for removal.\n",
        "only_unique_cols = []\n",
        "for col in data.columns:\n",
        "    if len(data[col].unique()) == 1:\n",
        "        only_unique_cols.append(col)\n",
        "        print(col)\n",
        "\n",
        "print(f'\\nThe number of columns with only one unique values is: {len(only_unique_cols)}')"
      ],
      "metadata": {
        "colab": {
          "base_uri": "https://localhost:8080/"
        },
        "id": "PDiA-L3LZsqv",
        "outputId": "bf874a5d-60e3-4a39-b953-c222665727f2"
      },
      "execution_count": 21,
      "outputs": [
        {
          "output_type": "stream",
          "name": "stdout",
          "text": [
            "Bwd PSH Flags\n",
            "\n",
            "The number of columns with only one unique values is: 1\n"
          ]
        }
      ]
    },
    {
      "cell_type": "code",
      "source": [
        "# Dropping the columns with only one unique value\n",
        "data.drop(only_unique_cols, axis=1, inplace=True)\n",
        "del only_unique_cols"
      ],
      "metadata": {
        "id": "Hgk8L9ExZwX1"
      },
      "execution_count": 22,
      "outputs": []
    },
    {
      "cell_type": "code",
      "source": [
        "data.shape"
      ],
      "metadata": {
        "colab": {
          "base_uri": "https://localhost:8080/"
        },
        "id": "4qBM--HcZy8H",
        "outputId": "6799c6f1-b267-4b64-8aa7-26c27247fabf"
      },
      "execution_count": 23,
      "outputs": [
        {
          "output_type": "execute_result",
          "data": {
            "text/plain": [
              "(2520798, 66)"
            ]
          },
          "metadata": {},
          "execution_count": 23
        }
      ]
    },
    {
      "cell_type": "code",
      "source": [
        "# Mapping the attacks to the new group\n",
        "group_mapping = {\n",
        "    'BENIGN': 'BENIGN',\n",
        "    'DoS Hulk': 'DoS',\n",
        "    'DDoS': 'DDoS',\n",
        "    'PortScan': 'RECONNAISSANCE',\n",
        "    'DoS GoldenEye': 'DoS',\n",
        "    'FTP-Patator': 'BRUTE_FORCE',\n",
        "    'DoS slowloris': 'DoS',\n",
        "    'DoS Slowhttptest': 'DoS',\n",
        "    'SSH-Patator': 'BRUTE_FORCE',\n",
        "    'Bot': 'BOTNET',\n",
        "    'Web Attack � Brute Force': 'WEB_ATTACK',\n",
        "    'Web Attack � XSS': 'WEB_ATTACK',\n",
        "    'Infiltration': 'WEB_ATTACK',\n",
        "    'Web Attack � Sql Injection': 'WEB_ATTACK',\n",
        "    'Heartbleed': 'WEB_ATTACK'\n",
        "}\n",
        "\n",
        "# Map to new group column\n",
        "data['Attack Type'] = data['Label'].map(group_mapping)\n",
        "print(data['Attack Type'].unique())"
      ],
      "metadata": {
        "colab": {
          "base_uri": "https://localhost:8080/"
        },
        "id": "bWG1aK2KZ0da",
        "outputId": "39fb4de1-96d2-47bc-864f-4afc54ae01a9"
      },
      "execution_count": 24,
      "outputs": [
        {
          "output_type": "stream",
          "name": "stdout",
          "text": [
            "['BENIGN' 'DDoS' 'RECONNAISSANCE' 'BOTNET' 'WEB_ATTACK' 'BRUTE_FORCE'\n",
            " 'DoS']\n"
          ]
        }
      ]
    },
    {
      "cell_type": "code",
      "source": [
        "# Checking the new values\n",
        "data['Attack Type'].value_counts()"
      ],
      "metadata": {
        "colab": {
          "base_uri": "https://localhost:8080/",
          "height": 335
        },
        "id": "6v9f6UrdZ2Xg",
        "outputId": "f4b0fd76-6966-4937-c32d-4fa46900b646"
      },
      "execution_count": 25,
      "outputs": [
        {
          "output_type": "execute_result",
          "data": {
            "text/plain": [
              "Attack Type\n",
              "BENIGN            2095057\n",
              "DoS                193745\n",
              "DDoS               128014\n",
              "RECONNAISSANCE      90694\n",
              "BRUTE_FORCE          9150\n",
              "WEB_ATTACK           2190\n",
              "BOTNET               1948\n",
              "Name: count, dtype: int64"
            ],
            "text/html": [
              "<div>\n",
              "<style scoped>\n",
              "    .dataframe tbody tr th:only-of-type {\n",
              "        vertical-align: middle;\n",
              "    }\n",
              "\n",
              "    .dataframe tbody tr th {\n",
              "        vertical-align: top;\n",
              "    }\n",
              "\n",
              "    .dataframe thead th {\n",
              "        text-align: right;\n",
              "    }\n",
              "</style>\n",
              "<table border=\"1\" class=\"dataframe\">\n",
              "  <thead>\n",
              "    <tr style=\"text-align: right;\">\n",
              "      <th></th>\n",
              "      <th>count</th>\n",
              "    </tr>\n",
              "    <tr>\n",
              "      <th>Attack Type</th>\n",
              "      <th></th>\n",
              "    </tr>\n",
              "  </thead>\n",
              "  <tbody>\n",
              "    <tr>\n",
              "      <th>BENIGN</th>\n",
              "      <td>2095057</td>\n",
              "    </tr>\n",
              "    <tr>\n",
              "      <th>DoS</th>\n",
              "      <td>193745</td>\n",
              "    </tr>\n",
              "    <tr>\n",
              "      <th>DDoS</th>\n",
              "      <td>128014</td>\n",
              "    </tr>\n",
              "    <tr>\n",
              "      <th>RECONNAISSANCE</th>\n",
              "      <td>90694</td>\n",
              "    </tr>\n",
              "    <tr>\n",
              "      <th>BRUTE_FORCE</th>\n",
              "      <td>9150</td>\n",
              "    </tr>\n",
              "    <tr>\n",
              "      <th>WEB_ATTACK</th>\n",
              "      <td>2190</td>\n",
              "    </tr>\n",
              "    <tr>\n",
              "      <th>BOTNET</th>\n",
              "      <td>1948</td>\n",
              "    </tr>\n",
              "  </tbody>\n",
              "</table>\n",
              "</div><br><label><b>dtype:</b> int64</label>"
            ]
          },
          "metadata": {},
          "execution_count": 25
        }
      ]
    },
    {
      "cell_type": "code",
      "source": [
        "# Dropping the old 'Label' column\n",
        "data.drop(columns='Label', inplace=True)"
      ],
      "metadata": {
        "id": "zQLi6EUbZ4eY"
      },
      "execution_count": 26,
      "outputs": []
    },
    {
      "cell_type": "code",
      "source": [
        "from sklearn.model_selection import train_test_split\n",
        "X = data.drop(columns='Attack Type')\n",
        "y = data['Attack Type']\n",
        "X_train, X_test, y_train, y_test = train_test_split(X, y, test_size=0.4, random_state=42)"
      ],
      "metadata": {
        "id": "0801GpMYZ6kW"
      },
      "execution_count": 27,
      "outputs": []
    },
    {
      "cell_type": "code",
      "source": [
        "from sklearn.ensemble import RandomForestClassifier\n",
        "from sklearn.pipeline import Pipeline\n",
        "import time\n",
        "\n",
        "start_fit = time.time()\n",
        "\n",
        "rf = RandomForestClassifier(n_estimators=100, random_state=42)\n",
        "rf.fit(X_train, y_train)\n",
        "end_fit = time.time()\n",
        "print(f\"Training time: {end_fit - start_fit:.2f} seconds\")\n",
        "rf_fit_t = end_fit - start_fit\n",
        "\n",
        "start_pred = time.time()\n",
        "y_pred = rf.predict(X_test)\n",
        "end_pred = time.time()\n",
        "print(f\"Prediction time: {end_pred - start_pred:.2f} seconds\")\n",
        "rf_pred_t = end_pred - start_pred"
      ],
      "metadata": {
        "colab": {
          "base_uri": "https://localhost:8080/"
        },
        "id": "BzOAceEkbLYt",
        "outputId": "aa2f71ec-f503-4b32-a0b7-66b829c65730"
      },
      "execution_count": 28,
      "outputs": [
        {
          "output_type": "stream",
          "name": "stdout",
          "text": [
            "Training time: 1654.93 seconds\n",
            "Prediction time: 18.01 seconds\n"
          ]
        }
      ]
    },
    {
      "cell_type": "code",
      "source": [
        "from sklearn.metrics import classification_report\n",
        "\n",
        "print(classification_report(y_test, y_pred, digits=4))\n",
        "rf_report = classification_report(y_test, y_pred, digits=4, output_dict=True)"
      ],
      "metadata": {
        "colab": {
          "base_uri": "https://localhost:8080/"
        },
        "id": "Zpoqy7wKbNs6",
        "outputId": "dadbed1a-f418-46a6-824b-eb4c95b7246c"
      },
      "execution_count": 29,
      "outputs": [
        {
          "output_type": "stream",
          "name": "stdout",
          "text": [
            "                precision    recall  f1-score   support\n",
            "\n",
            "        BENIGN     0.9989    0.9993    0.9991    837745\n",
            "        BOTNET     0.8528    0.7687    0.8086       761\n",
            "   BRUTE_FORCE     0.9995    0.9995    0.9995      3654\n",
            "          DDoS     0.9999    0.9993    0.9996     51139\n",
            "           DoS     0.9983    0.9968    0.9976     77851\n",
            "RECONNAISSANCE     0.9900    0.9880    0.9890     36257\n",
            "    WEB_ATTACK     0.9944    0.9639    0.9789       913\n",
            "\n",
            "      accuracy                         0.9985   1008320\n",
            "     macro avg     0.9762    0.9593    0.9674   1008320\n",
            "  weighted avg     0.9985    0.9985    0.9985   1008320\n",
            "\n"
          ]
        }
      ]
    },
    {
      "cell_type": "code",
      "source": [
        "from sklearn.metrics import ConfusionMatrixDisplay\n",
        "rf_confm = ConfusionMatrixDisplay.from_predictions(y_test, y_pred)"
      ],
      "metadata": {
        "colab": {
          "base_uri": "https://localhost:8080/",
          "height": 433
        },
        "id": "_sihpyAcbQ5E",
        "outputId": "7d72c102-4f1e-48fa-f4a4-50711dbcccdd"
      },
      "execution_count": 30,
      "outputs": [
        {
          "output_type": "display_data",
          "data": {
            "text/plain": [
              "<Figure size 640x480 with 2 Axes>"
            ],
            "image/png": "[encoded data removed]"
          },
          "metadata": {}
        }
      ]
    },
    {
      "cell_type": "code",
      "source": [
        "from sklearn.model_selection import cross_val_score\n",
        "from sklearn.metrics import make_scorer, f1_score\n",
        "\n",
        "# Perform k-fold cross-validation\n",
        "cv_scores = cross_val_score(rf, X_train, y_train, cv=5, scoring='f1_macro')\n",
        "\n",
        "# Print the cross-validation scores\n",
        "print(\"Cross-validation scores:\", cv_scores)\n",
        "print(f\"Mean CV score: {cv_scores.mean():.4f} (+/- {cv_scores.std() * 2:.4f})\")\n",
        "\n",
        "# Compare with test set score\n",
        "test_score = f1_score(y_test, y_pred, average='macro')\n",
        "print(f\"Test set score: {test_score:.4f}\")\n",
        "\n",
        "# If test_score is significantly higher than cv_scores.mean(),\n",
        "# or cv_scores have high variance, this indicates overfitting"
      ],
      "metadata": {
        "colab": {
          "base_uri": "https://localhost:8080/"
        },
        "id": "3dIR9eEkbWlX",
        "outputId": "75018f7f-80a4-4836-b26c-e64babd8bbda"
      },
      "execution_count": 31,
      "outputs": [
        {
          "output_type": "stream",
          "name": "stdout",
          "text": [
            "Cross-validation scores: [0.96465055 0.96707901 0.96465529 0.96762011 0.9597427 ]\n",
            "Mean CV score: 0.9647 (+/- 0.0056)\n",
            "Test set score: 0.9674\n"
          ]
        }
      ]
    },
    {
      "cell_type": "code",
      "source": [
        "import joblib\n",
        "\n",
        "# Save the model to a file\n",
        "model_filename = 'intrusion_detection_model.joblib'\n",
        "joblib.dump(rf, model_filename)\n",
        "print(f\"Model saved to {model_filename}\")"
      ],
      "metadata": {
        "colab": {
          "base_uri": "https://localhost:8080/"
        },
        "id": "-k6uDBBLcxUC",
        "outputId": "34e406d9-985a-4526-e341-49d8a9db06ef"
      },
      "execution_count": 32,
      "outputs": [
        {
          "output_type": "stream",
          "name": "stdout",
          "text": [
            "Model saved to intrusion_detection_model.joblib\n"
          ]
        }
      ]
    },
    {
      "cell_type": "code",
      "source": [
        "import joblib\n",
        "\n",
        "# Load the model from the file\n",
        "model_filename = 'intrusion_detection_model.joblib'\n",
        "loaded_model = joblib.load(model_filename)\n",
        "\n",
        "# Now you can use the loaded model to make predictions\n",
        "y_pred = loaded_model.predict(X_test)"
      ],
      "metadata": {
        "id": "Ia_fetMZoWDu"
      },
      "execution_count": null,
      "outputs": []
    }
  ]
}